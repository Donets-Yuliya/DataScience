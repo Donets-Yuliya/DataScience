{
  "nbformat": 4,
  "nbformat_minor": 0,
  "metadata": {
    "colab": {
      "provenance": [],
      "authorship_tag": "ABX9TyPu9cyhyexzGioPTbNw1xA0",
      "include_colab_link": true
    },
    "kernelspec": {
      "name": "python3",
      "display_name": "Python 3"
    },
    "language_info": {
      "name": "python"
    }
  },
  "cells": [
    {
      "cell_type": "markdown",
      "metadata": {
        "id": "view-in-github",
        "colab_type": "text"
      },
      "source": [
        "<a href=\"https://colab.research.google.com/github/Donets-Yuliya/DataScience/blob/main/HomeWork1.ipynb\" target=\"_parent\"><img src=\"https://colab.research.google.com/assets/colab-badge.svg\" alt=\"Open In Colab\"/></a>"
      ]
    },
    {
      "cell_type": "code",
      "source": [
        "#2.Напишите программу, которая принимает строку от пользователя и выводит количество символов в этой строке без учета пробелов."
      ],
      "metadata": {
        "id": "138dCL2nvnRR"
      },
      "execution_count": null,
      "outputs": []
    },
    {
      "cell_type": "code",
      "execution_count": 2,
      "metadata": {
        "id": "KADYu_rsLvw8",
        "colab": {
          "base_uri": "https://localhost:8080/"
        },
        "outputId": "aedb90db-9791-4cf4-8861-42004fab2734"
      },
      "outputs": [
        {
          "name": "stdout",
          "output_type": "stream",
          "text": [
            "Введите строку: Data Science — обширная область знаний на стыке аналитики, статистики, математики, программирования и машинного обучения\n"
          ]
        }
      ],
      "source": [
        "#Ввод строки пользователем\n",
        "input_string = input(\"Введите строку: \")"
      ]
    },
    {
      "cell_type": "code",
      "source": [
        "print(\"Количество символов с учетом пробелов: \" + str(len(input_string)))\n",
        "\n",
        "#print(input_string.replace(\" \", \"\"))\n",
        "\n",
        "print(\"Количество символов без учета пробелов: \" + str(len(input_string.replace(\" \", \"\"))))"
      ],
      "metadata": {
        "colab": {
          "base_uri": "https://localhost:8080/"
        },
        "id": "e8si-CHpt4vZ",
        "outputId": "530fa449-d189-4737-f524-286a39756228"
      },
      "execution_count": 3,
      "outputs": [
        {
          "output_type": "stream",
          "name": "stdout",
          "text": [
            "Количество символов с учетом пробелов: 120\n",
            "Количество символов без учета пробелов: 106\n"
          ]
        }
      ]
    },
    {
      "cell_type": "code",
      "source": [
        "#Сложность алгоритма зависит от длины введенной строки и является линейной О(n), на что указывает метод replace"
      ],
      "metadata": {
        "id": "VLjxRls7v-iI"
      },
      "execution_count": null,
      "outputs": []
    }
  ]
}